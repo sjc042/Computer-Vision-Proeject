{
  "nbformat": 4,
  "nbformat_minor": 0,
  "metadata": {
    "colab": {
      "provenance": []
    },
    "kernelspec": {
      "name": "python3",
      "display_name": "Python 3"
    },
    "language_info": {
      "name": "python"
    }
  },
  "cells": [
    {
      "cell_type": "code",
      "source": [
        "import cv2\n",
        "import numpy as np\n",
        "from scipy import signal"
      ],
      "metadata": {
        "id": "GtTiVmVrAiAH"
      },
      "execution_count": 36,
      "outputs": []
    },
    {
      "cell_type": "markdown",
      "source": [
        "**Helper Method** \n",
        "This function takes a frame as input, extracts the red, green, and blue channels of the frame using array slicing, and computes the grayscale value using the formula. It then rounds the grayscale value to the nearest integer and converts it to a uint8 data type using NumPy's astype() function. Finally, it returns the grayscale frame."
      ],
      "metadata": {
        "id": "XaZp02lOGpLN"
      }
    },
    {
      "cell_type": "code",
      "source": [
        "def cvtColor(frame):\n",
        "    # extract the red, green, and blue channels of the frame\n",
        "    r = frame[:, :, 0]\n",
        "    g = frame[:, :, 1]\n",
        "    b = frame[:, :, 2]\n",
        "\n",
        "    # compute the grayscale value using the formula\n",
        "    gray = 0.299 * r + 0.587 * g + 0.114 * b\n",
        "\n",
        "    # convert the grayscale value to uint8\n",
        "    gray = np.round(gray).astype(np.uint8)\n",
        "\n",
        "    return gray"
      ],
      "metadata": {
        "id": "rv1VEELzCJnB"
      },
      "execution_count": null,
      "outputs": []
    },
    {
      "cell_type": "markdown",
      "source": [
        "**Helper Method**\n",
        "This function takes an image as input, along with several optional parameters for computing the derivatives. It first creates Sobel filters for computing the horizontal and vertical derivatives, and then applies the filters to the input image using the scipy.signal.convolve2d() function. It then computes the magnitude and orientation of the derivatives using NumPy's sqrt() and arctan2() functions. Finally, it converts the magnitude to the specified data type using NumPy's astype() function, and returns the derivative in the specified direction (horizontal, vertical, or magnitude). You can adjust the optional parameters to get the desired results."
      ],
      "metadata": {
        "id": "qGzxeBY2G7h6"
      }
    },
    {
      "cell_type": "code",
      "source": [
        "def sobel(image, ddepth, dx, dy, ksize=3):\n",
        "    # create Sobel filters for computing the derivatives\n",
        "    sobel_x = np.array([[-1, 0, 1],\n",
        "                        [-2, 0, 2],\n",
        "                        [-1, 0, 1]])\n",
        "    sobel_y = np.array([[-1, -2, -1],\n",
        "                        [0, 0, 0],\n",
        "                        [1, 2, 1]])\n",
        "\n",
        "    # compute the horizontal and vertical derivatives using the Sobel filters\n",
        "    fx = signal.convolve2d(image, sobel_x, mode='same')\n",
        "    fy = signal.convolve2d(image, sobel_y, mode='same')\n",
        "\n",
        "    # compute the magnitude and orientation of the derivatives\n",
        "    mag = np.sqrt(fx**2 + fy**2)\n",
        "    angle = np.arctan2(fy, fx)\n",
        "\n",
        "    # convert the magnitude to the specified depth\n",
        "    if ddepth == -1:\n",
        "        mag = np.abs(mag)\n",
        "        mag = np.round(mag * 255 / np.max(mag)).astype(np.uint8)\n",
        "    else:\n",
        "        mag = mag.astype(ddepth)\n",
        "\n",
        "    # return the derivative in the specified direction\n",
        "    if dx == 1 and dy == 0:\n",
        "        return fx\n",
        "    elif dx == 0 and dy == 1:\n",
        "        return fy\n",
        "    else:\n",
        "        return mag"
      ],
      "metadata": {
        "id": "zAeRuPMVDOfw"
      },
      "execution_count": null,
      "outputs": []
    },
    {
      "cell_type": "markdown",
      "source": [
        "**Main Method**:\n",
        "This method uses the defined cvtColor() function to convert the frames to grayscale, and the defined Sobel() function to compute the spatial gradients. It then computes the temporal gradient between the two frames by subtracting the grayscale frames, and computes the optical flow vectors using a least-squares solution to the optical flow equation. Finally, it returns the computed flow. You can adjust the optional parameters to get the desired results."
      ],
      "metadata": {
        "id": "2jehdXHvF32i"
      }
    },
    {
      "cell_type": "code",
      "execution_count": null,
      "metadata": {
        "id": "l6MIpnaqAdfm"
      },
      "outputs": [],
      "source": [
        "\n",
        "def calcOpticalFlowFarneback(prev_frame, next_frame, pyr_scale=0.5, levels=3, winsize=15, iterations=3,\n",
        "                             poly_n=5, poly_sigma=1.2, flags=0):\n",
        "    # convert frames to grayscale\n",
        "    prev_gray = cvtColor(prev_frame)\n",
        "    next_gray = cvtColor(next_frame)\n",
        "    \n",
        "    # compute the spatial gradients\n",
        "    fx = sobel(prev_gray, -1, 1, 0, ksize=3)\n",
        "    fy = sobel(prev_gray, -1, 0, 1, ksize=3)\n",
        "    \n",
        "    # compute the temporal gradient\n",
        "    ft = next_gray - prev_gray\n",
        "    \n",
        "    # compute the optical flow vectors\n",
        "    flow = np.zeros((prev_gray.shape[0], prev_gray.shape[1], 2))\n",
        "    for i in range(prev_gray.shape[0]):\n",
        "        for j in range(prev_gray.shape[1]):\n",
        "            A = np.array([[np.sum(fx[i,j]**2), np.sum(fx[i,j]*fy[i,j])],\n",
        "                          [np.sum(fx[i,j]*fy[i,j]), np.sum(fy[i,j]**2)]])\n",
        "            b = -np.array([np.sum(fx[i,j]*ft[i,j]), np.sum(fy[i,j]*ft[i,j])])\n",
        "            v = np.linalg.solve(A, b)\n",
        "            flow[i,j] = v\n",
        "    \n",
        "    return flow"
      ]
    },
    {
      "cell_type": "markdown",
      "source": [
        "References: \n",
        "https://theailearner.com/tag/cv2-sobel/\n",
        "\n",
        "https://docs.scipy.org/doc/scipy/reference/generated/scipy.signal.convolve2d.html\n",
        "\n",
        "https://www.geeksforgeeks.org/python-opencv-cv2-cvtcolor-method/\n",
        "\n",
        "https://docs.opencv.org/3.4/dc/d6b/group__video__track.html\n",
        "\n",
        "https://www.geeksforgeeks.org/opencv-the-gunnar-farneback-optical-flow/"
      ],
      "metadata": {
        "id": "C_VyZzIPIxxl"
      }
    }
  ]
}